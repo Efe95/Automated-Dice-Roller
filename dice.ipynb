{
 "cells": [
  {
   "cell_type": "code",
   "execution_count": null,
   "metadata": {},
   "outputs": [],
   "source": [
    "import random\n",
    "\n",
    "def roll_dice(number_of_dice, number_of_sides):\n",
    "\n",
    "    number_generated = []\n",
    "    extract_number = []\n",
    "    print (f\"\\nRolling {number_of_dice} dice with {number_of_sides} sides each...\")\n",
    "    for i in range (number_of_dice):\n",
    "        numbers = random.randint(1, number_of_sides)\n",
    "        number = \"Rolled \" + str(numbers)\n",
    "        number_generated.append(number)\n",
    "    \n",
    "    for i in number_generated:\n",
    "        extract_number.append(int(i.split(\" \")[-1]))\n",
    "    for i in number_generated:\n",
    "        print(i)\n",
    "\n",
    "    print (f\"The total is {sum(extract_number)}\")\n",
    "    print (f\"The highest number rolled was {max(extract_number)}\")"
   ]
  },
  {
   "cell_type": "code",
   "execution_count": null,
   "metadata": {},
   "outputs": [],
   "source": [
    "# optionally test your function in this cell\n",
    "roll_dice(6,24)"
   ]
  },
  {
   "cell_type": "code",
   "execution_count": null,
   "metadata": {},
   "outputs": [],
   "source": [
    "#User prompt\n",
    "def dice_prompt():\n",
    "    while True:\n",
    "        number_of_dice = int(input(\"How Many Dice Would You Like To Roll? \"))\n",
    "\n",
    "        number_of_sides = int(input(\"For How Many Sides Would You Like? \"))\n",
    "\n",
    "        if number_of_dice <1 and number_of_sides <1:\n",
    "            print(\"Invalid Number Entered. \\nPlease Provide a Number from 1 on Both Entries: \")\n",
    "            continue\n",
    "        else:\n",
    "            roll_dice(number_of_dice, number_of_sides)\n",
    "            break\n",
    "\n",
    "dice_prompt()"
   ]
  }
 ],
 "metadata": {
  "kernelspec": {
   "display_name": "Python 3.8.5 64-bit",
   "language": "python",
   "name": "python3"
  },
  "language_info": {
   "name": "python",
   "version": "3.8.5"
  },
  "orig_nbformat": 4,
  "vscode": {
   "interpreter": {
    "hash": "233ed52b9c36cb7c8e999d9c11f52ff2ffd9bf241d90739eeebb1b8f59d99de8"
   }
  }
 },
 "nbformat": 4,
 "nbformat_minor": 2
}
